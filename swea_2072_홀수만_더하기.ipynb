{
  "nbformat": 4,
  "nbformat_minor": 0,
  "metadata": {
    "colab": {
      "provenance": [],
      "authorship_tag": "ABX9TyOfOSNM2d/dkUQhVXVRugP/",
      "include_colab_link": true
    },
    "kernelspec": {
      "name": "python3",
      "display_name": "Python 3"
    },
    "language_info": {
      "name": "python"
    }
  },
  "cells": [
    {
      "cell_type": "markdown",
      "metadata": {
        "id": "view-in-github",
        "colab_type": "text"
      },
      "source": [
        "<a href=\"https://colab.research.google.com/github/suaJeong-777/AlgorithmStudy_Python/blob/main/swea_2072_%ED%99%80%EC%88%98%EB%A7%8C_%EB%8D%94%ED%95%98%EA%B8%B0.ipynb\" target=\"_parent\"><img src=\"https://colab.research.google.com/assets/colab-badge.svg\" alt=\"Open In Colab\"/></a>"
      ]
    },
    {
      "cell_type": "code",
      "source": [
        "T=int(input())    \n",
        "for i in range(1,T+1):\n",
        "    num=list(map(int, input().split()))\n",
        "    sum=0\n",
        "    for j in num:\n",
        "        if j%2!=0:\n",
        "            sum+=j\n",
        "    print(\"#\"+ str(i),str(sum))"
      ],
      "metadata": {
        "id": "kA0H2qb5ORcq"
      },
      "execution_count": null,
      "outputs": []
    }
  ]
}