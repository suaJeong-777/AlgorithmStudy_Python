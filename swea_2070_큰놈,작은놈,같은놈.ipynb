{
  "nbformat": 4,
  "nbformat_minor": 0,
  "metadata": {
    "colab": {
      "provenance": [],
      "authorship_tag": "ABX9TyP1ZTYqIMmGfpXNW4MczgBC",
      "include_colab_link": true
    },
    "kernelspec": {
      "name": "python3",
      "display_name": "Python 3"
    },
    "language_info": {
      "name": "python"
    }
  },
  "cells": [
    {
      "cell_type": "markdown",
      "metadata": {
        "id": "view-in-github",
        "colab_type": "text"
      },
      "source": [
        "<a href=\"https://colab.research.google.com/github/suaJeong-777/AlgorithmStudy_Python/blob/main/swea_2070_%ED%81%B0%EB%86%88%2C%EC%9E%91%EC%9D%80%EB%86%88%2C%EA%B0%99%EC%9D%80%EB%86%88.ipynb\" target=\"_parent\"><img src=\"https://colab.research.google.com/assets/colab-badge.svg\" alt=\"Open In Colab\"/></a>"
      ]
    },
    {
      "cell_type": "code",
      "execution_count": null,
      "metadata": {
        "id": "Zdt__e6MUwLJ"
      },
      "outputs": [],
      "source": [
        "T = int(input())\n",
        "# 여러개의 테스트 케이스가 주어지므로, 각각을 처리합니다.\n",
        "for test_case in range(1, T + 1):\n",
        "    a,b=map(int, input().split())\n",
        "    if (a>b):\n",
        "        print(\"#\"+str(test_case)+\" >\")\n",
        "    elif (a<b):\n",
        "         print(\"#\"+str(test_case)+\" <\")\n",
        "    else:\n",
        "        print(\"#\"+str(test_case)+\" =\")"
      ]
    }
  ]
}