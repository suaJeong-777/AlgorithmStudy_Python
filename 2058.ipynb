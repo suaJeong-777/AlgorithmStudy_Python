{
  "nbformat": 4,
  "nbformat_minor": 0,
  "metadata": {
    "colab": {
      "provenance": [],
      "authorship_tag": "ABX9TyNSFN/A5Kc6ehYg4z9B6O7H",
      "include_colab_link": true
    },
    "kernelspec": {
      "name": "python3",
      "display_name": "Python 3"
    },
    "language_info": {
      "name": "python"
    }
  },
  "cells": [
    {
      "cell_type": "markdown",
      "metadata": {
        "id": "view-in-github",
        "colab_type": "text"
      },
      "source": [
        "<a href=\"https://colab.research.google.com/github/suaJeong-777/SW-expert-academy-/blob/main/2058.ipynb\" target=\"_parent\"><img src=\"https://colab.research.google.com/assets/colab-badge.svg\" alt=\"Open In Colab\"/></a>"
      ]
    },
    {
      "cell_type": "markdown",
      "source": [
        "###2058. 자릿수 더하기 "
      ],
      "metadata": {
        "id": "MHPKqwh-C9ak"
      }
    },
    {
      "cell_type": "code",
      "execution_count": 13,
      "metadata": {
        "colab": {
          "base_uri": "https://localhost:8080/"
        },
        "id": "GclPR6YVCmo5",
        "outputId": "25a18b9c-1269-4b58-a122-f84c57ee7dd7"
      },
      "outputs": [
        {
          "output_type": "stream",
          "name": "stdout",
          "text": [
            "213\n",
            "6\n"
          ]
        }
      ],
      "source": [
        "#적절하게 형변환을 하는 것이 중요한 문제였다\n",
        "num=int(input())\n",
        "addNum=str(num)\n",
        "result=0\n",
        "for i in range(len(addNum)):\n",
        "  result+=int(addNum[i])\n",
        "\n",
        "print(result)"
      ]
    }
  ]
}