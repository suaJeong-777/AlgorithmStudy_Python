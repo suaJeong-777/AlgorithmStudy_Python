{
  "nbformat": 4,
  "nbformat_minor": 0,
  "metadata": {
    "colab": {
      "provenance": [],
      "authorship_tag": "ABX9TyM/rBAfGf1PDI9KpBms2b8P",
      "include_colab_link": true
    },
    "kernelspec": {
      "name": "python3",
      "display_name": "Python 3"
    },
    "language_info": {
      "name": "python"
    }
  },
  "cells": [
    {
      "cell_type": "markdown",
      "metadata": {
        "id": "view-in-github",
        "colab_type": "text"
      },
      "source": [
        "<a href=\"https://colab.research.google.com/github/suaJeong-777/AlgorithmStudy_Python/blob/main/swea_2071_%ED%8F%89%EA%B7%A0%EA%B0%92_%EA%B5%AC%ED%95%98%EA%B8%B0.ipynb\" target=\"_parent\"><img src=\"https://colab.research.google.com/assets/colab-badge.svg\" alt=\"Open In Colab\"/></a>"
      ]
    },
    {
      "cell_type": "code",
      "execution_count": null,
      "metadata": {
        "id": "NzpNL2VoSUGl"
      },
      "outputs": [],
      "source": [
        "T = int(input())\n",
        "# 여러개의 테스트 케이스가 주어지므로, 각각을 처리합니다.\n",
        "for test_case in range(1, T + 1):\n",
        "    num=list(map(int, input().split()))\n",
        "    sum=0\n",
        "    for i in num:\n",
        "        sum+=i\n",
        "    mean=round(sum/10)         #소수점 n번째 까지만 표현하고 반올림 하고 싶을 경우 round(실수, n). 디폴트는 소수 첫째자리에서 반올림\n",
        "    print(\"#\"+str(test_case),str(mean))\n"
      ]
    }
  ]
}